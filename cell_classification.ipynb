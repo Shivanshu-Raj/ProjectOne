{
 "cells": [
  {
   "cell_type": "code",
   "execution_count": null,
   "id": "88ec7428-d5b4-44d1-8234-05ceef346780",
   "metadata": {},
   "outputs": [],
   "source": [
    "import pandas as pd\n",
    "import pylab as pl\n",
    "import numpy as np\n",
    "import scipy.optimize as opt\n",
    "from sklearn import preprocessing\n",
    "from sklearn.model_selection import train_test_split\n",
    "%matplotlib inline \n",
    "import matplotlib.pyplot as plt"
   ]
  },
  {
   "cell_type": "code",
   "execution_count": null,
   "id": "eec692b2-7f26-430c-9427-15b6ec17ee3a",
   "metadata": {},
   "outputs": [],
   "source": [
    "cell_df = pd.read_csv(\"cell_samples.csv\")\n",
    "cell_df.head()"
   ]
  },
  {
   "cell_type": "code",
   "execution_count": null,
   "id": "ff1da79e-20ff-4f57-9e7b-3c37946c4595",
   "metadata": {},
   "outputs": [],
   "source": [
    "ax = cell_df[cell_df['Class'] == 4][0:50].plot(kind='scatter', x='Clump', y='UnifSize', color='DarkBlue', label='malignant');\n",
    "cell_df[cell_df['Class'] == 2][0:50].plot(kind='scatter', x='Clump', y='UnifSize', color='Yellow', label='benign', ax=ax);\n",
    "plt.show()"
   ]
  },
  {
   "cell_type": "code",
   "execution_count": null,
   "id": "8eca332a-524b-40ea-b671-2c354e840445",
   "metadata": {},
   "outputs": [],
   "source": [
    "cell_df.dtypes"
   ]
  },
  {
   "cell_type": "code",
   "execution_count": null,
   "id": "ea69d7af-4aac-4cfb-bccb-b04a5bff8c0d",
   "metadata": {},
   "outputs": [],
   "source": [
    "cell_df = cell_df[pd.to_numeric(cell_df['BareNuc'], errors='coerce').notnull()]\n",
    "cell_df['BareNuc'] = cell_df['BareNuc'].astype('int')\n",
    "cell_df.dtypes"
   ]
  },
  {
   "cell_type": "code",
   "execution_count": null,
   "id": "f6d3f2f6-0421-4a1b-921c-98802f53e2a4",
   "metadata": {},
   "outputs": [],
   "source": [
    "cell_df['BareNuc'].notnull().shape"
   ]
  },
  {
   "cell_type": "code",
   "execution_count": null,
   "id": "e55320d8-3d9b-4170-a80b-9bf265e24f25",
   "metadata": {},
   "outputs": [],
   "source": [
    "cell_df.shape"
   ]
  },
  {
   "cell_type": "code",
   "execution_count": null,
   "id": "de9ebf5f-620e-4d22-beea-7ce4a53370b5",
   "metadata": {},
   "outputs": [],
   "source": [
    "pd.to_numeric(cell_df['BareNuc'], errors='coerce')"
   ]
  },
  {
   "cell_type": "code",
   "execution_count": null,
   "id": "e9835f93-6ef0-4642-8177-35829704da52",
   "metadata": {},
   "outputs": [],
   "source": [
    "feature_df = cell_df[['Clump', 'UnifSize', 'UnifShape', 'MargAdh', 'SingEpiSize', 'BareNuc', 'BlandChrom', 'NormNucl', 'Mit']]\n",
    "X = np.asarray(feature_df)\n",
    "X[0:5]"
   ]
  },
  {
   "cell_type": "code",
   "execution_count": null,
   "id": "92892bdf-c485-48b7-9881-b22a521b0767",
   "metadata": {},
   "outputs": [],
   "source": [
    "y = np.asarray(cell_df['Class'])\n",
    "y [0:5]"
   ]
  },
  {
   "cell_type": "markdown",
   "id": "41c4299f-a2e0-4a5a-abf2-a47c0a3e1cb1",
   "metadata": {},
   "source": [
    "Train/Test Split"
   ]
  },
  {
   "cell_type": "code",
   "execution_count": null,
   "id": "8d54264f-32a4-4a02-b748-bd4d4dd12745",
   "metadata": {},
   "outputs": [],
   "source": [
    "X_train, X_test, y_train, y_test = train_test_split( X, y, test_size=0.2, random_state=4)\n",
    "print ('Train set:', X_train.shape,  y_train.shape)\n",
    "print ('Test set:', X_test.shape,  y_test.shape)"
   ]
  },
  {
   "cell_type": "markdown",
   "id": "6ec98641-c557-43b3-a9ef-2925bd867d10",
   "metadata": {},
   "source": [
    "Modeling"
   ]
  },
  {
   "cell_type": "code",
   "execution_count": null,
   "id": "fd7828fc-3d35-468d-be12-8abcd395af5c",
   "metadata": {},
   "outputs": [],
   "source": [
    "from sklearn import svm\n",
    "clf = svm.SVC(kernel='rbf')\n",
    "clf.fit(X_train, y_train)"
   ]
  },
  {
   "cell_type": "code",
   "execution_count": null,
   "id": "765c0d71-f9bb-43c9-9d51-942c3343b0fc",
   "metadata": {},
   "outputs": [],
   "source": [
    "yhat = clf.predict(X_test)\n",
    "yhat [0:5]"
   ]
  },
  {
   "cell_type": "markdown",
   "id": "4a2940f7-e208-49b8-b3f8-8f6f829e26c5",
   "metadata": {},
   "source": [
    "Evaluation"
   ]
  },
  {
   "cell_type": "code",
   "execution_count": null,
   "id": "12690b94-3704-497b-8e34-c010f1129ce4",
   "metadata": {},
   "outputs": [],
   "source": [
    "from sklearn.metrics import f1_score\n",
    "f1_score(y_test, yhat, average='weighted') "
   ]
  },
  {
   "cell_type": "code",
   "execution_count": null,
   "id": "ed6553c9-5095-4bd4-aa1a-782842638124",
   "metadata": {},
   "outputs": [],
   "source": [
    "from sklearn.metrics import jaccard_score\n",
    "jaccard_score(y_test, yhat,pos_label=2)"
   ]
  },
  {
   "cell_type": "code",
   "execution_count": null,
   "id": "f334d432-50ee-443e-839d-32bd7fcbd4a4",
   "metadata": {},
   "outputs": [],
   "source": [
    "Modeling using other kernel"
   ]
  },
  {
   "cell_type": "code",
   "execution_count": null,
   "id": "e7429306-6f56-4ee0-9ffa-6fcb829000dc",
   "metadata": {},
   "outputs": [],
   "source": [
    "from sklearn import svm\n",
    "clf2=svm.SVC(kernel='linear')\n",
    "clf2.fit(X_train,y_train)\n",
    "yhat2=clf2.predict(X_test)"
   ]
  },
  {
   "cell_type": "code",
   "execution_count": null,
   "id": "8d82bd88-bc25-41bd-a29e-fe28259eb73d",
   "metadata": {},
   "outputs": [],
   "source": [
    "yhat2[0:5]"
   ]
  },
  {
   "cell_type": "code",
   "execution_count": null,
   "id": "a44c0cc2-45d9-42f8-b0e5-fb7b77441054",
   "metadata": {},
   "outputs": [],
   "source": [
    "from sklearn.metrics import f1_score\n",
    "f1_score(y_test, yhat2, average='weighted')"
   ]
  },
  {
   "cell_type": "code",
   "execution_count": null,
   "id": "0d47ba31-3a7c-4294-a960-507b90dcb17a",
   "metadata": {},
   "outputs": [],
   "source": [
    "from sklearn.metrics import jaccard_score\n",
    "jaccard_score(y_test,yhat2, pos_label=2)"
   ]
  }
 ],
 "metadata": {
  "kernelspec": {
   "display_name": "Python 3 (ipykernel)",
   "language": "python",
   "name": "python3"
  },
  "language_info": {
   "codemirror_mode": {
    "name": "ipython",
    "version": 3
   },
   "file_extension": ".py",
   "mimetype": "text/x-python",
   "name": "python",
   "nbconvert_exporter": "python",
   "pygments_lexer": "ipython3",
   "version": "3.11.5"
  }
 },
 "nbformat": 4,
 "nbformat_minor": 5
}
